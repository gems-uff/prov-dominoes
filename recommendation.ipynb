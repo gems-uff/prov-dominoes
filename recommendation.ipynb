{
 "cells": [
  {
   "cell_type": "code",
   "execution_count": 1,
   "metadata": {},
   "outputs": [],
   "source": [
    "def transpose(tile):\n",
    "    '''Transposes a tile'''\n",
    "    return (tile[::-1])\n",
    "\n",
    "def multiply(tile1, tile2):\n",
    "    '''Multiplies two tiles'''\n",
    "    return (tile1 + tile2)\n",
    "\n",
    "def operate(tiles):\n",
    "    '''Runs all operations (transposition and multiplication) once over each of the tiles'''\n",
    "    new_tiles = set()\n",
    "    for (tile, op_count) in tiles:\n",
    "        new_tiles.add((transpose(tile), op_count + 1))\n",
    "        for (other_tile, other_op_count) in tiles:\n",
    "            if tile[-1] == other_tile[0]:\n",
    "                new_tiles.add((multiply(tile, other_tile), op_count + other_op_count + 1))\n",
    "            if other_tile[-1] == tile[0]:\n",
    "                new_tiles.add((multiply(other_tile, tile), op_count + other_op_count + 1))\n",
    "    tiles.update(new_tiles)\n",
    "    \n",
    "def filter_op_count(max_count, tiles):\n",
    "    filtered_tiles = set()\n",
    "    for (tile, op_count) in tiles:\n",
    "        if op_count <= max_count:\n",
    "            filtered_tiles.add(tile)\n",
    "    return filtered_tiles\n",
    "    \n",
    "def filter_template(template, tiles):\n",
    "    filtered_tiles = set()\n",
    "    for tile in tiles:\n",
    "        if tile[0] == template[0] and tile[-1] == template[-1]:\n",
    "            filtered_tiles.add(tile)\n",
    "    return filtered_tiles\n",
    "\n",
    "def simulate(answer_tile, answer_op_count, BASIC_TILES):\n",
    "    tiles = set()\n",
    "    for tile in BASIC_TILES:\n",
    "        tiles.add((tile,0))\n",
    "\n",
    "    while (answer_tile, answer_op_count) not in tiles:\n",
    "        operate(tiles)\n",
    "\n",
    "    tiles = filter_op_count(answer_op_count, tiles)\n",
    "    print('Total number of possible tiles after', answer_op_count, 'operations:', len(tiles))\n",
    "    \n",
    "    tiles = filter_template(answer_tile, tiles)\n",
    "    print('Ranking of the correct answer in the suggestions compatible with [' + answer_tile[0] + '|' + answer_tile[-1] + ']:', len(tiles))\n",
    "\n",
    "    print('List of possible compatible answers:', tiles)"
   ]
  },
  {
   "cell_type": "code",
   "execution_count": 2,
   "metadata": {},
   "outputs": [],
   "source": [
    "# Cl = 'class'\n",
    "# M = 'method'\n",
    "# F = 'file'\n",
    "# C = 'commit'\n",
    "# D = 'developer'\n",
    "# P = 'package'\n",
    "# I = 'issue'\n",
    "BASIC_TILES = {('Cl','M'), ('F','Cl'), ('C','M'), ('D','C'), ('P','F'), ('I','C')}"
   ]
  },
  {
   "cell_type": "markdown",
   "metadata": {},
   "source": [
    "# Scenario 1: [D|D] = [D|C] x [C|M] x [C|M]T x [D|C]T"
   ]
  },
  {
   "cell_type": "code",
   "execution_count": 3,
   "metadata": {},
   "outputs": [
    {
     "name": "stdout",
     "output_type": "stream",
     "text": [
      "Total number of possible tiles after 4 operations: 110\n",
      "Ranking of the correct answer in the suggestions compatible with [D|D]: 2\n",
      "List of possible compatible answers: {('D', 'C', 'C', 'M', 'M', 'C', 'C', 'D'), ('D', 'C', 'C', 'D')}\n"
     ]
    }
   ],
   "source": [
    "answer_tile = ('D','C','C','M','M','C','C','D')\n",
    "answer_op_count = 4\n",
    "\n",
    "simulate(answer_tile, answer_op_count, BASIC_TILES)"
   ]
  },
  {
   "cell_type": "markdown",
   "metadata": {},
   "source": [
    "# Scenario 2: [D|D] = [D|C] x [I|C]T x [I|C] x [D|C]T"
   ]
  },
  {
   "cell_type": "code",
   "execution_count": 4,
   "metadata": {},
   "outputs": [
    {
     "name": "stdout",
     "output_type": "stream",
     "text": [
      "Total number of possible tiles after 5 operations: 176\n",
      "Ranking of the correct answer in the suggestions compatible with [D|D]: 4\n",
      "List of possible compatible answers: {('D', 'C', 'C', 'I', 'I', 'C', 'C', 'D'), ('D', 'C', 'C', 'M', 'M', 'C', 'C', 'D'), ('D', 'C', 'C', 'D'), ('D', 'C', 'C', 'D', 'D', 'C', 'C', 'D')}\n"
     ]
    }
   ],
   "source": [
    "answer_tile = ('D','C','C','I','I','C','C','D')\n",
    "answer_op_count = 5\n",
    "\n",
    "simulate(answer_tile, answer_op_count, BASIC_TILES)"
   ]
  },
  {
   "cell_type": "markdown",
   "metadata": {},
   "source": [
    "# Scenario 3: [D|Cl] = [D|C] x [C|M] x [Cl|M]T"
   ]
  },
  {
   "cell_type": "code",
   "execution_count": 5,
   "metadata": {},
   "outputs": [
    {
     "name": "stdout",
     "output_type": "stream",
     "text": [
      "Total number of possible tiles after 3 operations: 48\n",
      "Ranking of the correct answer in the suggestions compatible with [D|Cl]: 1\n",
      "List of possible compatible answers: {('D', 'C', 'C', 'M', 'M', 'Cl')}\n"
     ]
    }
   ],
   "source": [
    "answer_tile = ('D','C','C','M','M','Cl')\n",
    "answer_op_count = 3\n",
    "\n",
    "simulate(answer_tile, answer_op_count, BASIC_TILES)"
   ]
  },
  {
   "cell_type": "markdown",
   "metadata": {},
   "source": [
    "# Scenario 4: [C|Cl] = [C|M] x [Cl|M]T"
   ]
  },
  {
   "cell_type": "code",
   "execution_count": 6,
   "metadata": {},
   "outputs": [
    {
     "name": "stdout",
     "output_type": "stream",
     "text": [
      "Total number of possible tiles after 2 operations: 37\n",
      "Ranking of the correct answer in the suggestions compatible with [C|Cl]: 1\n",
      "List of possible compatible answers: {('C', 'M', 'M', 'Cl')}\n"
     ]
    }
   ],
   "source": [
    "answer_tile = ('C','M','M','Cl')\n",
    "answer_op_count = 2\n",
    "\n",
    "simulate(answer_tile, answer_op_count, BASIC_TILES)"
   ]
  }
 ],
 "metadata": {
  "kernelspec": {
   "display_name": "Python 3",
   "language": "python",
   "name": "python3"
  },
  "language_info": {
   "codemirror_mode": {
    "name": "ipython",
    "version": 3
   },
   "file_extension": ".py",
   "mimetype": "text/x-python",
   "name": "python",
   "nbconvert_exporter": "python",
   "pygments_lexer": "ipython3",
   "version": "3.6.4"
  }
 },
 "nbformat": 4,
 "nbformat_minor": 2
}
